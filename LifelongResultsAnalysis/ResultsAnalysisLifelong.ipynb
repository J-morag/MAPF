{
 "cells": [
  {
   "cell_type": "markdown",
   "metadata": {},
   "source": [
    "## Imports"
   ]
  },
  {
   "cell_type": "code",
   "execution_count": null,
   "outputs": [],
   "source": [
    "%load_ext autoreload\n",
    "%autoreload 2"
   ],
   "metadata": {
    "collapsed": false
   }
  },
  {
   "cell_type": "code",
   "execution_count": null,
   "outputs": [],
   "source": [
    "from ResultsAnalysisLifelong import *\n",
    "import pathlib"
   ],
   "metadata": {
    "collapsed": false
   }
  },
  {
   "cell_type": "markdown",
   "metadata": {},
   "source": [
    "## Arguments"
   ]
  },
  {
   "cell_type": "code",
   "execution_count": null,
   "metadata": {
    "collapsed": false,
    "jupyter": {
     "outputs_hidden": false
    }
   },
   "outputs": [],
   "source": [
    "chosen_maps = []\n",
    "aliases = None\n",
    "keep_solvers = None\n",
    "drop_solvers = None\n",
    "experiment_postfix = ''\n",
    "base_data_dir = os.path.abspath(os.path.join(os.getcwd(),  'data'))\n",
    "experiment_name = ''\n",
    "\n",
    "experiment_file_or_dir = os.path.join(experiment_name, r'results')\n",
    "path_data_file_or_dir = os.path.join(base_data_dir, experiment_file_or_dir)\n",
    "\n",
    "output_dir_name = f\"{experiment_name + experiment_postfix if experiment_name else get_date_time_string()}\"\n",
    "output_dir_path = os.path.abspath(os.path.join(os.getcwd(), 'output', output_dir_name))\n",
    "pathlib.Path(output_dir_path).mkdir(parents=False, exist_ok=True)\n"
   ]
  },
  {
   "cell_type": "markdown",
   "metadata": {},
   "source": [
    "## Data Loading"
   ]
  },
  {
   "cell_type": "code",
   "execution_count": null,
   "metadata": {
    "collapsed": false,
    "jupyter": {
     "outputs_hidden": false
    }
   },
   "outputs": [],
   "source": [
    "data_raw, solvers_unique, processors_unique = load_all_data(path_data_file_or_dir, keep_solvers=keep_solvers, aliases=aliases, drop_solvers=drop_solvers)\n",
    "print(solvers_unique)\n",
    "print(processors_unique)\n",
    "data_raw"
   ]
  },
  {
   "cell_type": "code",
   "execution_count": null,
   "outputs": [],
   "source": [
    "chosen_maps"
   ],
   "metadata": {
    "collapsed": false
   }
  },
  {
   "cell_type": "code",
   "execution_count": null,
   "outputs": [],
   "source": [
    "analyze_maps_results(chosen_maps, output_dir_path, data_raw)"
   ],
   "metadata": {
    "collapsed": false
   }
  },
  {
   "cell_type": "code",
   "execution_count": null,
   "outputs": [],
   "source": [],
   "metadata": {
    "collapsed": false
   }
  }
 ],
 "metadata": {
  "kernelspec": {
   "display_name": "Python 3 (ipykernel)",
   "language": "python",
   "name": "python3"
  },
  "language_info": {
   "codemirror_mode": {
    "name": "ipython",
    "version": 3
   },
   "file_extension": ".py",
   "mimetype": "text/x-python",
   "name": "python",
   "nbconvert_exporter": "python",
   "pygments_lexer": "ipython3",
   "version": "3.9.9"
  }
 },
 "nbformat": 4,
 "nbformat_minor": 4
}
